{
 "cells": [
  {
   "cell_type": "markdown",
   "id": "de8868c9",
   "metadata": {},
   "source": [
    "# By Abhiram Varma"
   ]
  },
  {
   "cell_type": "markdown",
   "id": "917e2dc3",
   "metadata": {},
   "source": [
    "# programming questions and answers"
   ]
  },
  {
   "cell_type": "code",
   "execution_count": 7,
   "id": "d755a65e",
   "metadata": {},
   "outputs": [],
   "source": [
    "#print a table\n",
    "def table(num):\n",
    "    for i in range(1,11):\n",
    "        print(num,\"*\",i,\"=\",num*i)\n",
    "#table(2)"
   ]
  },
  {
   "cell_type": "code",
   "execution_count": 8,
   "id": "65449b2f",
   "metadata": {},
   "outputs": [],
   "source": [
    "#sum of series of n natural nums\n",
    "def seriessum(n):\n",
    "    sum=(n*(n+1))//2\n",
    "    return sum\n",
    "\n",
    "#seriessum(10)"
   ]
  },
  {
   "cell_type": "code",
   "execution_count": 12,
   "id": "fbe2e004",
   "metadata": {},
   "outputs": [],
   "source": [
    "#check str is binary or not\n",
    "# Return true if str is binary, else false\n",
    "def isBinary(str):\n",
    "    count=0\n",
    "    for i in str:\n",
    "        if (i=='0' or i=='1'):\n",
    "            count+=1\n",
    "    if (count==len(str)):\n",
    "        return True\n",
    "    return False\n",
    "#isBinary(\"1001101011\")\n",
    "#isBinary(\"1001101031\")"
   ]
  },
  {
   "cell_type": "code",
   "execution_count": null,
   "id": "b0ccfbf0",
   "metadata": {},
   "outputs": [],
   "source": []
  }
 ],
 "metadata": {
  "kernelspec": {
   "display_name": "base",
   "language": "python",
   "name": "python3"
  },
  "language_info": {
   "codemirror_mode": {
    "name": "ipython",
    "version": 3
   },
   "file_extension": ".py",
   "mimetype": "text/x-python",
   "name": "python",
   "nbconvert_exporter": "python",
   "pygments_lexer": "ipython3",
   "version": "3.9.12"
  }
 },
 "nbformat": 4,
 "nbformat_minor": 5
}
