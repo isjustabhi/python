{
 "cells": [
  {
   "cell_type": "markdown",
   "id": "de8868c9",
   "metadata": {},
   "source": [
    "# By Abhiram Varma"
   ]
  },
  {
   "cell_type": "markdown",
   "id": "917e2dc3",
   "metadata": {},
   "source": [
    "# programming questions and answers"
   ]
  },
  {
   "cell_type": "code",
   "execution_count": 68,
   "id": "d755a65e",
   "metadata": {},
   "outputs": [],
   "source": [
    "#1 print a table\n",
    "def table(num):\n",
    "    for i in range(1,11):\n",
    "        print(num,\"*\",i,\"=\",num*i)\n",
    "#table(2)"
   ]
  },
  {
   "cell_type": "code",
   "execution_count": 69,
   "id": "65449b2f",
   "metadata": {},
   "outputs": [],
   "source": [
    "#2 sum of series of n natural nums\n",
    "def seriessum(n):\n",
    "    sum=(n*(n+1))//2\n",
    "    return sum\n",
    "#seriessum(10)"
   ]
  },
  {
   "cell_type": "code",
   "execution_count": 70,
   "id": "fbe2e004",
   "metadata": {},
   "outputs": [],
   "source": [
    "#3 check str is binary or not\n",
    "# Return true if str is binary, else false\n",
    "def isBinary(str):\n",
    "    count=0\n",
    "    for i in str:\n",
    "        if (i=='0' or i=='1'):\n",
    "            count+=1\n",
    "    if (count==len(str)):\n",
    "        return True\n",
    "    return False\n",
    "#isBinary(\"1001101011\")\n",
    "#isBinary(\"1001101031\")"
   ]
  },
  {
   "cell_type": "code",
   "execution_count": 71,
   "id": "b0ccfbf0",
   "metadata": {},
   "outputs": [],
   "source": [
    "#4 Odd or Even\n",
    "def oddEven(n):\n",
    "    if(n%2==0):\n",
    "        return \"even\"\n",
    "    else:\n",
    "        return \"odd\"\n",
    "#oddEven(15)"
   ]
  },
  {
   "cell_type": "code",
   "execution_count": 72,
   "id": "f9670a8b",
   "metadata": {},
   "outputs": [],
   "source": [
    "#5 Swapping\n",
    "def get(a, b):\n",
    "    a,b=b,a\n",
    "    return a,b\n",
    "#get(1,3)"
   ]
  },
  {
   "cell_type": "code",
   "execution_count": 73,
   "id": "a12d9ab6",
   "metadata": {},
   "outputs": [],
   "source": [
    "#6 sum of digits\n",
    "def sumOfDigits (N):\n",
    "    count=0\n",
    "    while(N>0):\n",
    "        r=N%10\n",
    "        count+=r\n",
    "        N=N//10\n",
    "    return count\n",
    "#sumOfDigits(123)"
   ]
  },
  {
   "cell_type": "code",
   "execution_count": 74,
   "id": "16ec1455",
   "metadata": {},
   "outputs": [],
   "source": [
    "#7 is_Vowel\n",
    "def is_vowel(x):\n",
    "    if (x == 'a' or x == 'e' or x == 'i' or \n",
    "        x == 'o' or x == 'u' or x == 'A' or \n",
    "        x == 'E' or x == 'I' or x == 'O' or \n",
    "        x == 'U'): \n",
    "        return \"YES\"\n",
    "    else: \n",
    "        return \"NO\"\n",
    "#is_vowel(\"O\")"
   ]
  },
  {
   "cell_type": "code",
   "execution_count": 75,
   "id": "875dac6c",
   "metadata": {},
   "outputs": [],
   "source": [
    "#8 sum of elements in matrix\n",
    "\n",
    "def sumOfMatrix(N,M,Grid):\n",
    "    sum=0\n",
    "    for i in range(N):\n",
    "        for j in range(M):\n",
    "            #Adding each element of the matrix to the sum.\n",
    "            sum+=Grid[i][j]\n",
    "    return sum\n",
    "#sumOfMatrix(2,3,[[1,0,1],[-8,9,-2]])"
   ]
  },
  {
   "cell_type": "code",
   "execution_count": 76,
   "id": "8df3df5a",
   "metadata": {},
   "outputs": [],
   "source": [
    "#9 greatest among three numbers\n",
    "def greatestOfThree(A,B,C):\n",
    "    return max(A,max(B,C))\n",
    "#greatestOfThree(10,-2,13)"
   ]
  },
  {
   "cell_type": "code",
   "execution_count": 77,
   "id": "ac2887fe",
   "metadata": {},
   "outputs": [],
   "source": [
    "#10 Lower case to upper case\n",
    "def to_upper(str):\n",
    "    return (str.upper())\n",
    "#to_upper(\"abhiram\")"
   ]
  },
  {
   "cell_type": "code",
   "execution_count": 78,
   "id": "c58bd35a",
   "metadata": {},
   "outputs": [],
   "source": [
    "#11 Write a program to print Binary representation of a given number N.\n",
    "def get_binary_rep(N):\n",
    "    ans = ''\n",
    "    for i in range(29, -1, -1):\n",
    "        p = (N >> i) & 1\n",
    "        ans += str(p)\n",
    "    return ans\n",
    "#get_binary_rep(5)"
   ]
  },
  {
   "cell_type": "code",
   "execution_count": 79,
   "id": "50ea6f7f",
   "metadata": {},
   "outputs": [],
   "source": [
    "#12 Multiply Array\n",
    "def longest(arr, n):\n",
    "    p=1\n",
    "    for i in arr:\n",
    "        p*=i\n",
    "    return p\n",
    "#longest([1,2,3,4,5],5)\n"
   ]
  },
  {
   "cell_type": "code",
   "execution_count": 80,
   "id": "80989f4c",
   "metadata": {},
   "outputs": [],
   "source": [
    "#13 Sum of odd and even elements\n",
    "def find_sum(n):\n",
    "    even_cnt = n // 2\n",
    "    odd_cnt = (n + 1) // 2\n",
    "    even_sum = (even_cnt * (4 + (even_cnt - 1) * 2)) // 2\n",
    "    odd_sum = (odd_cnt * (2 + (odd_cnt - 1) * 2)) // 2\n",
    "    res = [odd_sum, even_sum]\n",
    "    return res\n",
    "#find_sum(5)"
   ]
  },
  {
   "cell_type": "code",
   "execution_count": 81,
   "id": "fe23da45",
   "metadata": {},
   "outputs": [],
   "source": [
    "#14 star series\n",
    "def RT(n):\n",
    "    for i in range(1,n+1):\n",
    "        print(\"*\"*i)\n",
    "        i=i+1\n",
    "#RT(5)"
   ]
  },
  {
   "cell_type": "code",
   "execution_count": 82,
   "id": "edd5601c",
   "metadata": {},
   "outputs": [],
   "source": [
    "#15 reverse RT\n",
    "def Rrt(n):\n",
    "    for i in range(n,0,-1):\n",
    "        print(\"*\"*i)\n",
    "#Rrt(5)"
   ]
  },
  {
   "cell_type": "code",
   "execution_count": 83,
   "id": "ff9d77cf",
   "metadata": {},
   "outputs": [],
   "source": [
    "#15 Pyramid\n",
    "def pyramid(n):\n",
    "    for i in range(n):\n",
    "        print(' '*(n-i-1)+\"*\"*(2*i+1))\n",
    "#pyramid(5)\n",
    "    "
   ]
  },
  {
   "cell_type": "code",
   "execution_count": 84,
   "id": "5e3e505c",
   "metadata": {},
   "outputs": [],
   "source": [
    "#16 Diamond\n",
    "def diamond(n):\n",
    "    #upper pyramid\n",
    "    for i in range(n):\n",
    "        print(' '*(n-i-1)+\"*\"*(2*i-1))\n",
    "    #lower pyramid\n",
    "    for i in range(n-2,-1,-1):\n",
    "        print(\" \"*(n-i-1)+\"*\"*(2*i-1))\n",
    "#diamond(5)\n",
    "    "
   ]
  }
 ],
 "metadata": {
  "kernelspec": {
   "display_name": "Python 3",
   "language": "python",
   "name": "python3"
  },
  "language_info": {
   "codemirror_mode": {
    "name": "ipython",
    "version": 3
   },
   "file_extension": ".py",
   "mimetype": "text/x-python",
   "name": "python",
   "nbconvert_exporter": "python",
   "pygments_lexer": "ipython3",
   "version": "3.9.6"
  }
 },
 "nbformat": 4,
 "nbformat_minor": 5
}
