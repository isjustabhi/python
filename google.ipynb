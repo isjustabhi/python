{
 "cells": [
  {
   "cell_type": "markdown",
   "id": "de8868c9",
   "metadata": {},
   "source": [
    "# By Abhiram Varma"
   ]
  },
  {
   "cell_type": "markdown",
   "id": "917e2dc3",
   "metadata": {},
   "source": [
    "# programming questions and answers"
   ]
  },
  {
   "cell_type": "code",
   "execution_count": 7,
   "id": "d755a65e",
   "metadata": {},
   "outputs": [],
   "source": [
    "#1 print a table\n",
    "def table(num):\n",
    "    for i in range(1,11):\n",
    "        print(num,\"*\",i,\"=\",num*i)\n",
    "#table(2)"
   ]
  },
  {
   "cell_type": "code",
   "execution_count": 8,
   "id": "65449b2f",
   "metadata": {},
   "outputs": [],
   "source": [
    "#2 sum of series of n natural nums\n",
    "def seriessum(n):\n",
    "    sum=(n*(n+1))//2\n",
    "    return sum\n",
    "#seriessum(10)"
   ]
  },
  {
   "cell_type": "code",
   "execution_count": 12,
   "id": "fbe2e004",
   "metadata": {},
   "outputs": [],
   "source": [
    "#3 check str is binary or not\n",
    "# Return true if str is binary, else false\n",
    "def isBinary(str):\n",
    "    count=0\n",
    "    for i in str:\n",
    "        if (i=='0' or i=='1'):\n",
    "            count+=1\n",
    "    if (count==len(str)):\n",
    "        return True\n",
    "    return False\n",
    "#isBinary(\"1001101011\")\n",
    "#isBinary(\"1001101031\")"
   ]
  },
  {
   "cell_type": "code",
   "execution_count": 5,
   "id": "b0ccfbf0",
   "metadata": {},
   "outputs": [],
   "source": [
    "#4 Odd or Even\n",
    "def oddEven(n):\n",
    "    if(n%2==0):\n",
    "        return \"even\"\n",
    "    else:\n",
    "        return \"odd\"\n",
    "#oddEven(15)"
   ]
  },
  {
   "cell_type": "code",
   "execution_count": 6,
   "id": "f9670a8b",
   "metadata": {},
   "outputs": [],
   "source": [
    "#5 Swapping\n",
    "def get(a, b):\n",
    "    a,b=b,a\n",
    "    return a,b\n",
    "#get(1,3)"
   ]
  },
  {
   "cell_type": "code",
   "execution_count": 7,
   "id": "a12d9ab6",
   "metadata": {},
   "outputs": [],
   "source": [
    "#6 sum of digits\n",
    "def sumOfDigits (N):\n",
    "    count=0\n",
    "    while(N>0):\n",
    "        r=N%10\n",
    "        count+=r\n",
    "        N=N//10\n",
    "    return count\n",
    "#sumOfDigits(123)"
   ]
  },
  {
   "cell_type": "code",
   "execution_count": 1,
   "id": "16ec1455",
   "metadata": {},
   "outputs": [],
   "source": [
    "#7 is_Vowel\n",
    "def is_vowel(x):\n",
    "    if (x == 'a' or x == 'e' or x == 'i' or \n",
    "        x == 'o' or x == 'u' or x == 'A' or \n",
    "        x == 'E' or x == 'I' or x == 'O' or \n",
    "        x == 'U'): \n",
    "        return \"YES\"\n",
    "    else: \n",
    "        return \"NO\"\n",
    "#is_vowel(\"O\")"
   ]
  },
  {
   "cell_type": "code",
   "execution_count": 11,
   "id": "875dac6c",
   "metadata": {},
   "outputs": [],
   "source": [
    "#8 sum of elements in matrix\n",
    "\n",
    "def sumOfMatrix(N,M,Grid):\n",
    "    sum=0\n",
    "    for i in range(N):\n",
    "        for j in range(M):\n",
    "            #Adding each element of the matrix to the sum.\n",
    "            sum+=Grid[i][j]\n",
    "    return sum\n",
    "\n",
    "#sumOfMatrix(2,3,[[1,0,1],[-8,9,-2]])"
   ]
  }
 ],
 "metadata": {
  "kernelspec": {
   "display_name": "Python 3",
   "language": "python",
   "name": "python3"
  },
  "language_info": {
   "codemirror_mode": {
    "name": "ipython",
    "version": 3
   },
   "file_extension": ".py",
   "mimetype": "text/x-python",
   "name": "python",
   "nbconvert_exporter": "python",
   "pygments_lexer": "ipython3",
   "version": "3.9.6"
  }
 },
 "nbformat": 4,
 "nbformat_minor": 5
}
