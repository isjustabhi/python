{
 "cells": [
  {
   "cell_type": "markdown",
   "id": "de8868c9",
   "metadata": {},
   "source": [
    "# By Abhiram Varma"
   ]
  },
  {
   "cell_type": "markdown",
   "id": "917e2dc3",
   "metadata": {},
   "source": [
    "# programming questions and answers"
   ]
  },
  {
   "cell_type": "code",
   "execution_count": 7,
   "id": "d755a65e",
   "metadata": {},
   "outputs": [],
   "source": [
    "#print a table\n",
    "def table(num):\n",
    "    for i in range(1,11):\n",
    "        print(num,\"*\",i,\"=\",num*i)\n",
    "#table(2)"
   ]
  },
  {
   "cell_type": "code",
   "execution_count": 8,
   "id": "65449b2f",
   "metadata": {},
   "outputs": [],
   "source": [
    "#sum of series of n natural nums\n",
    "def seriessum(n):\n",
    "    sum=(n*(n+1))//2\n",
    "    return sum\n",
    "\n",
    "#seriessum(10)"
   ]
  },
  {
   "cell_type": "code",
   "execution_count": 12,
   "id": "fbe2e004",
   "metadata": {},
   "outputs": [],
   "source": [
    "#check str is binary or not\n",
    "# Return true if str is binary, else false\n",
    "def isBinary(str):\n",
    "    count=0\n",
    "    for i in str:\n",
    "        if (i=='0' or i=='1'):\n",
    "            count+=1\n",
    "    if (count==len(str)):\n",
    "        return True\n",
    "    return False\n",
    "#isBinary(\"1001101011\")\n",
    "#isBinary(\"1001101031\")"
   ]
  },
  {
   "cell_type": "code",
   "execution_count": 2,
   "id": "b0ccfbf0",
   "metadata": {},
   "outputs": [
    {
     "data": {
      "text/plain": [
       "'odd'"
      ]
     },
     "execution_count": 2,
     "metadata": {},
     "output_type": "execute_result"
    }
   ],
   "source": [
    "# Odd or Even\n",
    "def oddEven(n):\n",
    "    if(n%2==0):\n",
    "        return \"even\"\n",
    "    else:\n",
    "        return \"odd\"\n",
    "#oddEven(15)"
   ]
  },
  {
   "cell_type": "code",
   "execution_count": 9,
   "id": "f9670a8b",
   "metadata": {},
   "outputs": [
    {
     "data": {
      "text/plain": [
       "(3, 1)"
      ]
     },
     "execution_count": 9,
     "metadata": {},
     "output_type": "execute_result"
    }
   ],
   "source": [
    "# Swapping\n",
    "def get(a, b):\n",
    "    a,b=b,a\n",
    "    return a,b\n",
    "\n",
    "#get(1,3)"
   ]
  },
  {
   "cell_type": "code",
   "execution_count": null,
   "id": "a12d9ab6",
   "metadata": {},
   "outputs": [],
   "source": []
  }
 ],
 "metadata": {
  "kernelspec": {
   "display_name": "base",
   "language": "python",
   "name": "python3"
  },
  "language_info": {
   "codemirror_mode": {
    "name": "ipython",
    "version": 3
   },
   "file_extension": ".py",
   "mimetype": "text/x-python",
   "name": "python",
   "nbconvert_exporter": "python",
   "pygments_lexer": "ipython3",
   "version": "3.9.12"
  }
 },
 "nbformat": 4,
 "nbformat_minor": 5
}
